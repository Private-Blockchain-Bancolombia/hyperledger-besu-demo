{
 "cells": [
  {
   "cell_type": "markdown",
   "metadata": {},
   "source": [
    "### <b>Main commands for blockchain Hyperledger Besu</b>\n",
    "\n",
    "#### <b>Creation</b>\n",
    "\n",
    "1. \"server\" node (or full node)"
   ]
  },
  {
   "cell_type": "code",
   "execution_count": 2,
   "metadata": {
    "vscode": {
     "languageId": "shellscript"
    }
   },
   "outputs": [
    {
     "ename": "SyntaxError",
     "evalue": "invalid syntax (69645652.py, line 1)",
     "output_type": "error",
     "traceback": [
      "\u001b[0;36m  Cell \u001b[0;32mIn[2], line 1\u001b[0;36m\u001b[0m\n\u001b[0;31m    sudo docker run -p 8545:8545 -p 8546:8546 -p 30303:30303 hyperledger/besu:latest --rpc-http-enabled --rpc-ws-enabled\u001b[0m\n\u001b[0m         ^\u001b[0m\n\u001b[0;31mSyntaxError\u001b[0m\u001b[0;31m:\u001b[0m invalid syntax\n"
     ]
    }
   ],
   "source": [
    "sudo docker run -p 8545:8545 -p 8546:8546 -p 30303:30303 hyperledger/besu:latest --rpc-http-enabled --rpc-ws-enabled"
   ]
  },
  {
   "cell_type": "markdown",
   "metadata": {},
   "source": [
    "2. miner node:"
   ]
  },
  {
   "cell_type": "code",
   "execution_count": null,
   "metadata": {
    "vscode": {
     "languageId": "shellscript"
    }
   },
   "outputs": [
    {
     "ename": "",
     "evalue": "",
     "output_type": "error",
     "traceback": [
      "\u001b[1;31mRunning cells with 'Python 3.12.3' requires the ipykernel package.\n",
      "\u001b[1;31mRun the following command to install 'ipykernel' into the Python environment. \n",
      "\u001b[1;31mCommand: '/usr/bin/python3 -m pip install ipykernel -U --user --force-reinstall'"
     ]
    }
   ],
   "source": [
    "docker run -p 8546:8546 --mount type=bind,source=/<myvolume/besu/testnode>,target=/var/lib/besu hyperledger/besu:latest --miner-enabled --miner-coinbase fe3b557e8fb62b89f4916b721be55ceb828dbd73 --rpc-ws-enabled --network=dev --data-path=/var/lib/besu"
   ]
  },
  {
   "cell_type": "markdown",
   "metadata": {},
   "source": [
    "where <myvolume/besu/testnode> part is used to mount a local directory (your host filesystem) to the Docker container. The <myvolume/besu/testnode> should be replaced with the actual path on your host where you want to store the blockchain data. This is where Besu will save its data, so it can persist even after the container is stopped.\n",
    "\n",
    "Miner Configuration: The --miner-enabled flag allows the node to mine new blocks, while --miner-coinbase specifies the address that will receive the mined rewards.\n",
    "\n",
    "Network Configuration: The --network=dev flag specifies that the node will run on a development network.\n",
    "\n",
    "Data Path: The --data-path=/var/lib/besu option tells Besu where to store its blockchain data inside the container.\n",
    "\n",
    "in out case we'll store miners data on here: \n",
    "\n",
    "    /home/xiayun/Studies/#7/ISIS 3007 - Blockchain project/hyperledger-besu/start/nodes/miners\n",
    "\n",
    "where we have a folder first for the first node and a folder second for the second node and so on.\n",
    "\n",
    "Miner command to start a first miner:"
   ]
  },
  {
   "cell_type": "code",
   "execution_count": null,
   "metadata": {
    "vscode": {
     "languageId": "shellscript"
    }
   },
   "outputs": [],
   "source": [
    "sudo docker run -p 8546:8546 --mount type=bind,source=\"/home/xiayun/Studies/#7/ISIS 3007 - Blockchain project/hyperledger-besu/start/nodes/miners/first\",target=/var/lib/besu hyperledger/besu:latest --miner-enabled --miner-coinbase fe3b557e8fb62b89f4916b721be55ceb828dbd73 --rpc-ws-enabled --network=dev --data-path=/var/lib/besu"
   ]
  },
  {
   "cell_type": "markdown",
   "metadata": {},
   "source": [
    "Since port 8546 might already be being used by the client full node then we we use port 8547\n",
    "\n",
    "The 8546:8546 part in both commands (client node and miner node) refers to a port mapping where the first 8546 is the host machine port and the second 8546 is the container port, which is a Docker and therefore it is isolated from the host system or other containers and therefore theres no conflict when we instance all the nodes to listen to port 8546 of the container."
   ]
  },
  {
   "cell_type": "code",
   "execution_count": null,
   "metadata": {
    "vscode": {
     "languageId": "shellscript"
    }
   },
   "outputs": [],
   "source": [
    "sudo docker run -p 8547:8546 --mount type=bind,source=\"/home/xiayun/Studies/#7/ISIS 3007 - Blockchain project/hyperledger-besu/start/nodes/miners/first\",target=/var/lib/besu hyperledger/besu:latest --miner-enabled --miner-coinbase fe3b557e8fb62b89f4916b721be55ceb828dbd73 --rpc-ws-enabled --network=dev --data-path=/var/lib/besu"
   ]
  },
  {
   "cell_type": "markdown",
   "metadata": {},
   "source": [
    "### <b>Types of Nodes in Blockchain Networks</b>\n",
    "\n",
    "##### 1. Miner Nodes\n",
    "\n",
    "- These nodes create new blocks by solving complex mathematical problems (proof of work) or participating in other consensus mechanisms (like proof of stake). They validate and add transactions to the blockchain. \n",
    "\n",
    "- Responsible for creating new blocks and validating transactions. They do store some blockchain data relevant to mining, but primarily focus on the consensus process.\n",
    "\n",
    "##### 2. Mediator Nodes (or Full Nodes)\n",
    "\n",
    "- These nodes maintain a complete copy of the blockchain and validate transactions. They facilitate communication between clients and other nodes, acting as relays.\n",
    "\n",
    "- Store the entire blockchain and validate transactions. These nodes are crucial for maintaining the integrity of the blockchain.\n",
    "\n",
    "- These store the entire blockchain history, including all transactions, blocks, and state changes.\n",
    "\n",
    "- Maintain the entire blockchain for verification and facilitate communication. They are essential for the integrity and transparency of the network.\n",
    "\n",
    "##### 3. Light Nodes (or Light Clients)\n",
    "\n",
    "- These nodes do not store a complete copy of the blockchain. Instead, they rely on full nodes for data and validation, using techniques like SPV (Simplified Payment Verification) to verify transactions.\n",
    "\n",
    "- Light Nodes do enable faster access since they rely on full nodes for data. They can quickly validate transactions without needing to download the entire blockchain.\n",
    "\n",
    "- In a daily operational context, light nodes might access full nodes (mediator nodes) to retrieve data for transactions or balance inquiries.\n",
    "\n",
    "##### 4. Archival Nodes\n",
    "\n",
    "- These nodes store the complete history of all transactions and blocks. They are useful for querying historical data but may not participate in the consensus process.\n",
    "\n",
    "##### 5. Pruning Nodes\n",
    "\n",
    "- These nodes keep only the most recent state of the blockchain and discard older data to save space. They are useful for resource-constrained environments.\n",
    "\n",
    "- Keep only the most recent state of the blockchain, discarding older data to save space. They can still validate transactions but may not be as useful for auditing or historical queries.\n",
    "\n",
    "While there is no strict standard across all implementations, the definitions of these node types are widely accepted within the blockchain community. Different platforms may have variations, but the core functionalities tend to remain consistent.\n",
    "\n",
    "### <b>Real-Life Actors for Finance Use Cases</b>\n",
    "\n",
    "- Miner Node: A financial institution that processes and validates transactions, perhaps earning transaction fees or block rewards.\n",
    "\n",
    "- Full Node: A central bank or regulatory body that maintains a complete record of transactions for auditing and compliance purposes.\n",
    "\n",
    "- Light Node: A mobile application used by customers to access their accounts, making quick transactions without needing to store the entire blockchain.\n",
    "\n",
    "- Archival Node: A data analytics firm that stores comprehensive historical transaction data for compliance and reporting.\n",
    "\n",
    "### <b>Server Node Concept</b>\n",
    "\n",
    "The term \"server\" in the hyperledger besu context refers to the role of nodes that facilitate requests and responses (like a full node). All full nodes can act as servers, responding to client requests. While they have storage capabilities, they also serve as communication hubs.\n",
    "\n"
   ]
  },
  {
   "cell_type": "markdown",
   "metadata": {},
   "source": [
    "### <b> Validation Process </b>\n",
    "\n",
    "In the context of validating transactions:\n",
    "\n",
    "- When a transaction is submitted to the network, it first goes to a miner or full node. This node checks the transaction's validity (e.g., ensuring that the sender has sufficient balance).\n",
    "\n",
    "- If the transaction is valid, it is added to the node's local pool of pending transactions. From there, it may be included in the next block the node mines.\n",
    "\n",
    "### <b> Communication Between Nodes </b>\n",
    "\n",
    "- When a miner node creates a new block, it broadcasts that block to other nodes in the network. All nodes (both full and light) will receive this broadcast.\n",
    "\n",
    "- Each node independently validates the new block and its transactions against their copy of the blockchain. If valid, they update their local copy.\n",
    "\n",
    "### <b> Order of Operations </b>\n",
    "\n",
    "There isn’t a strict order like \"Node 1 validates, then sends to Node 2.\" Instead, the process is more decentralized:\n",
    "\n",
    "- A transaction is sent to a miner node.\n",
    "- The miner validates it and adds it to a block.\n",
    "- The miner broadcasts the new block to all nodes in the network simultaneously.\n",
    "\n",
    "All nodes that receive the block will independently verify its validity. This decentralized approach helps ensure the integrity and security of the blockchain.\n",
    "\n",
    "### <b> Transaction Confirmation Process </b>\n",
    "\n",
    "- When a transaction is initiated, it is broadcast to all nodes.\n",
    "- Each node validates the transaction independently. The transaction is considered valid once it meets the consensus criteria defined by the network (e.g., more than 50% of nodes agreeing).\n",
    "- All Node Types: Typically receive transaction information, but light nodes may not store it.\n",
    "- Nodes That Don’t Store Transactions: Light nodes and possibly some specialized nodes (like certain types of relay nodes) may not maintain a local copy of all transactions.\n"
   ]
  }
 ],
 "metadata": {
  "kernelspec": {
   "display_name": "Python 3",
   "language": "python",
   "name": "python3"
  },
  "language_info": {
   "codemirror_mode": {
    "name": "ipython",
    "version": 3
   },
   "file_extension": ".py",
   "mimetype": "text/x-python",
   "name": "python",
   "nbconvert_exporter": "python",
   "pygments_lexer": "ipython3",
   "version": "3.12.5"
  }
 },
 "nbformat": 4,
 "nbformat_minor": 2
}
